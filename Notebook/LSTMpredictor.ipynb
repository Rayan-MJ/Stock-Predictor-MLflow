{
 "cells": [
  {
   "cell_type": "code",
   "execution_count": null,
   "id": "9111c239-4e55-4f5e-9de3-cc51d65909cb",
   "metadata": {},
   "outputs": [],
   "source": [
    "import yfinance as yf\n",
    "import numpy as np\n",
    "import pandas as pd\n",
    "from sklearn.preprocessing import MinMaxScaler\n",
    "from tensorflow.keras.models import Sequential\n",
    "from tensorflow.keras.layers import Input, LSTM, Dropout, Dense\n",
    "import mlflow\n",
    "import mlflow.tensorflow"
   ]
  },
  {
   "cell_type": "code",
   "execution_count": null,
   "id": "e1fda045-6b47-458a-b554-eff9627bbc45",
   "metadata": {},
   "outputs": [],
   "source": [
    "from tensorflow.keras.models import load_model\n",
    "import joblib"
   ]
  },
  {
   "cell_type": "code",
   "execution_count": null,
   "id": "495da472-4469-4963-9d05-ca5da5aa8b52",
   "metadata": {},
   "outputs": [],
   "source": [
    "mlflow.set_tracking_uri(\"http://localhost:5000\")\n",
    "\n",
    "#autolog\n",
    "mlflow.tensorflow.autolog()"
   ]
  },
  {
   "cell_type": "code",
   "execution_count": null,
   "id": "7fbcfa6e-9937-43a9-a747-3857dc91ee71",
   "metadata": {},
   "outputs": [],
   "source": [
    "data = yf.download(\"AAPL\", start=\"2015-01-01\", end=\"2024-12-01\")"
   ]
  },
  {
   "cell_type": "code",
   "execution_count": null,
   "id": "0ecabf95-6664-45cd-add3-18556d99445d",
   "metadata": {},
   "outputs": [],
   "source": [
    "close_prices = data['Close'].values"
   ]
  },
  {
   "cell_type": "code",
   "execution_count": null,
   "id": "cea9cd8a-3abf-4399-8309-127cc99b0279",
   "metadata": {},
   "outputs": [],
   "source": [
    "# Normalize\n",
    "scaler = MinMaxScaler(feature_range=(0,1))\n",
    "scaled_data = scaler.fit_transform(close_prices)"
   ]
  },
  {
   "cell_type": "code",
   "execution_count": null,
   "id": "c06e5d85-3683-40f6-b60f-0f71c6ce66db",
   "metadata": {},
   "outputs": [],
   "source": [
    "# Prepare sequences\n",
    "sequence_length = 60\n",
    "X, y = [], []\n",
    "for i in range(sequence_length, len(scaled_data)):\n",
    "    X.append(scaled_data[i-sequence_length:i, 0]) # \"0\" 1D\n",
    "    y.append(scaled_data[i, 0])\n",
    "\n",
    "X, y = np.array(X), np.array(y)\n",
    "X = np.reshape(X, (X.shape[0], X.shape[1], 1))"
   ]
  },
  {
   "cell_type": "code",
   "execution_count": null,
   "id": "aed94e7a-f4e3-4d60-9944-902fd3f20f73",
   "metadata": {},
   "outputs": [],
   "source": [
    "from tensorflow.keras.optimizers import Adam\n",
    "with mlflow.start_run(run_name=\"LSTM_Stock_PredictorFinal\"):\n",
    "    epochs = 20\n",
    "    batch_size = 32\n",
    "    # Logging before training\n",
    "    mlflow.log_param(\"sequence_length\", sequence_length)\n",
    "    mlflow.log_param(\"epochs\", epochs)\n",
    "    mlflow.log_param(\"batch_size\", batch_size)\n",
    "\n",
    "        # Build LSTM\n",
    "    model = Sequential([\n",
    "        Input(shape=(X.shape[1], 1)),     \n",
    "        LSTM(50, return_sequences=True),\n",
    "        Dropout(0.2),\n",
    "        LSTM(50, return_sequences=False),\n",
    "        Dropout(0.2),\n",
    "        Dense(25),\n",
    "        Dense(1)\n",
    "    ])\n",
    "    optimizer = Adam(learning_rate=0.001)\n",
    "    model.compile(optimizer=optimizer, loss='mean_squared_error')\n",
    "\n",
    "    # Train model (autolog will track metrics)\n",
    "    Model = model.fit(X, y, epochs=epochs, batch_size=batch_size, verbose=1)\n",
    "\n",
    "\n",
    "    preds = model.predict(X)\n",
    "    preds = scaler.inverse_transform(preds)\n",
    "\n",
    "    comparison_df = data.iloc[sequence_length:].copy()\n",
    "    comparison_df['Predicted_Close'] = preds\n",
    "\n",
    "    result = comparison_df[['Close', 'Predicted_Close']]\n",
    "    result.to_csv(\"predictions.csv\", index=False)\n",
    "    \n",
    "    #Lgging after traning\n",
    "    for epoch, loss in enumerate(Model.history['loss']):\n",
    "        mlflow.log_metric(\"train_loss\", loss, step=epoch)\n",
    "        \n",
    "    mlflow.log_artifact(\"Path_To_Artifact_predictions.csv\")"
   ]
  }
 ],
 "metadata": {
  "kernelspec": {
   "display_name": "Python 3 (ipykernel)",
   "language": "python",
   "name": "python3"
  },
  "language_info": {
   "codemirror_mode": {
    "name": "ipython",
    "version": 3
   },
   "file_extension": ".py",
   "mimetype": "text/x-python",
   "name": "python",
   "nbconvert_exporter": "python",
   "pygments_lexer": "ipython3",
   "version": "3.10.14"
  }
 },
 "nbformat": 4,
 "nbformat_minor": 5
}
